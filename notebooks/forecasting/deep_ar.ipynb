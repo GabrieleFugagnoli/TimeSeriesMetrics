version https://git-lfs.github.com/spec/v1
oid sha256:83c9d1f60644c73dfa3facb7a01a170288dd2843d82c815296dee075c5ca4e92
size 19445
