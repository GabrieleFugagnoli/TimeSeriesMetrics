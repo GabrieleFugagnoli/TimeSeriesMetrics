version https://git-lfs.github.com/spec/v1
oid sha256:bb8d3fcc44c7166ef5dfb7f3aa4272b4b468c8f34f7a5931eddccb509300f20c
size 2015408
