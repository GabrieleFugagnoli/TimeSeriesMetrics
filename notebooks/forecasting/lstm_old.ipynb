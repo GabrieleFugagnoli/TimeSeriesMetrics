version https://git-lfs.github.com/spec/v1
oid sha256:2814f62eafa356e3b31891b03f22444ead64daf6c9a54dce0c159862307a26d0
size 5849
