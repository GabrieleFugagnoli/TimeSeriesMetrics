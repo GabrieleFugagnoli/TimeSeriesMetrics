version https://git-lfs.github.com/spec/v1
oid sha256:164b2bac33e144e1155f42891208bcbf12ee3134ab881d17ff3e6c9a0cfadd51
size 48874
