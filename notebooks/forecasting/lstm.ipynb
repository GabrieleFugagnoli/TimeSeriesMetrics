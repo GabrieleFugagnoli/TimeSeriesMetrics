version https://git-lfs.github.com/spec/v1
oid sha256:8c1d6164e661f2ae043f05d346e2692f1b91e0c82f1b25046d91c9046e1cdbf1
size 5180
