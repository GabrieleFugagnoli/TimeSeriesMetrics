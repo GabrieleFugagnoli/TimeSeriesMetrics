version https://git-lfs.github.com/spec/v1
oid sha256:887af74bd8cdc85ca9aa752fad3a977f562992c2c8102bfd68302185eecb560f
size 9301
