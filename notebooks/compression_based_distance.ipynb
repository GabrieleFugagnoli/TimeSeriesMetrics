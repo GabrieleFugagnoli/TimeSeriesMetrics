version https://git-lfs.github.com/spec/v1
oid sha256:136045b0479dfd45ac82b00b25e1a31ab669bbe21b0147ab7c0cbe2a3d870643
size 132795
