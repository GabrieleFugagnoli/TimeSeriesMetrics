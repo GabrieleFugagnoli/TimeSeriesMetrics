version https://git-lfs.github.com/spec/v1
oid sha256:8dee76cf0f90f4322f370cd607b77fe3204bf032c9e06ac792a9df54af5a5db5
size 359478
