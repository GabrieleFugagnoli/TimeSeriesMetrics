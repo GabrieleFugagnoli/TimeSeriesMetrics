version https://git-lfs.github.com/spec/v1
oid sha256:7a7e2627fc8a26d6c39571d7361aa63d18c17928ef1ad102ee2f0ebea7eaa9fa
size 9373
