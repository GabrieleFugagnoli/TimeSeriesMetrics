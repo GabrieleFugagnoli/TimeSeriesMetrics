version https://git-lfs.github.com/spec/v1
oid sha256:a8253cad0800506edf06a51db16dd5d7be4aeb5272247d73328f6192afefcfc3
size 132871
