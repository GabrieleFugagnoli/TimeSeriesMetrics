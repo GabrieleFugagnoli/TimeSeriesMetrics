version https://git-lfs.github.com/spec/v1
oid sha256:d6d93d1418338885a3485527150a0676ce78cb2e313b56cc24d03f2484e89967
size 359144
