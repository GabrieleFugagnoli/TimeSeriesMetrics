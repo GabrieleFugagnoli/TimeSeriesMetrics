version https://git-lfs.github.com/spec/v1
oid sha256:d501a25319053384c2d004b4e2b99c7e0d91a498e9683cc24f71ba3dbca9e0ee
size 373922
