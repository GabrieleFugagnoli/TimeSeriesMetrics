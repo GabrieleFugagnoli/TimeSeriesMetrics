version https://git-lfs.github.com/spec/v1
oid sha256:2323a462e74d12362752c3acb88ab06e74f6dbcf70760d0dc072f10f6c60fd1b
size 689747
