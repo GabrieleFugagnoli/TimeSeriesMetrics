version https://git-lfs.github.com/spec/v1
oid sha256:f99f870dbf8ce0a0ee217414462cf8ec34565ad5d5e62b8aaac66eb88fd0cbf4
size 1910083
