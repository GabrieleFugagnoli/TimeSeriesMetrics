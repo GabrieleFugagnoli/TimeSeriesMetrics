version https://git-lfs.github.com/spec/v1
oid sha256:c6e34383d9e2c870cb337e998eab2e18f34ebf3183ad9068473088420ccf1308
size 525146
